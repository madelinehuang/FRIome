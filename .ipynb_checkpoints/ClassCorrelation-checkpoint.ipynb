{
 "cells": [
  {
   "cell_type": "code",
   "execution_count": 1,
   "metadata": {
    "collapsed": true
   },
   "outputs": [],
   "source": [
    "#Graph a stacked column comparing percentages of male vs female and the type of bacteria (class) present\n",
    "\n",
    "import pandas as pd\n",
    "import numpy as np\n",
    "import matplotlib.pyplot as plt\n",
    "\n",
    "X_AXIS = (\n",
    "    'cBacilli', 'cBacteroidia', 'cBetaproteobacteria', 'cClostridia', 'cGammaproteobacteria', \n",
    "    'cActinobacteria', 'cFusobacteria', 'cFlavobacteriia', 'cSphingobacteriia', 'cDeltaproteobacteria', \n",
    "    'cEpsilonproteobacteria', 'cAlphaproteobacteria', 'cSpirochaetes', 'cErysipelotrichi', 'cThermotogae', \n",
    "    'cNostocophycideae', 'cMollicutes', 'cChlamydiia', 'cSynergistia', 'cDeinococci', 'cAnaerolineae', 'cThermoprotei', \n",
    "    'cOscillatoriophycideae', 'cThermodesulfobacteria', 'cDeferribacteres', 'cGroup II', 'cOpitutae', 'cCaldithrixae', \n",
    "    'cNitriliruptoria', 'cThermobacula', 'cFibrobacteria', 'cAcidimicrobiia', 'cSynechococcophycideae', 'cNitrospira', \n",
    "    'cHolophagae', 'cKtedonobacteria', 'cBrocadiae', 'cAcidobacteria', 'cChrysiogenetes', 'cDehalococcoidetes', \n",
    "    'cVerrucomicrobiae', 'cLeptospirae', 'cMethanomicrobia', 'cMethanobacteria', 'cChlorobia', 'cChloroflexi', \n",
    "    'cThermoleophilia', 'cHalobacteria', 'cMethylacidiphilae', 'cArchaeoglobi', 'cPedosphaerae', 'cPlanctomycetia', \n",
    "    'cSolibacteres', 'cArmatimonadia', 'cBrachyspirae', 'cCaldisericia', 'cSpartobacteria' \n",
    ")\n",
    "\n",
    "index = pd.Index(X_AXIS, name='class')\n",
    "\n",
    "data = {'male': (), 'female': ()}\n",
    "\n",
    "#https://stackoverflow.com/questions/44309507/stacked-bar-plot-using-matplotlib"
   ]
  },
  {
   "cell_type": "code",
   "execution_count": 3,
   "metadata": {},
   "outputs": [
    {
     "ename": "NameError",
     "evalue": "name 'csv' is not defined",
     "output_type": "error",
     "traceback": [
      "\u001b[1;31m---------------------------------------------------------------------------\u001b[0m",
      "\u001b[1;31mNameError\u001b[0m                                 Traceback (most recent call last)",
      "\u001b[1;32m<ipython-input-3-543c26067e3e>\u001b[0m in \u001b[0;36m<module>\u001b[1;34m()\u001b[0m\n\u001b[0;32m      8\u001b[0m \u001b[1;33m\u001b[0m\u001b[0m\n\u001b[0;32m      9\u001b[0m \u001b[1;32mwith\u001b[0m \u001b[0mopen\u001b[0m\u001b[1;33m(\u001b[0m\u001b[1;34m\"ClassGender.csv\"\u001b[0m\u001b[1;33m)\u001b[0m \u001b[1;32mas\u001b[0m \u001b[0mcsvfile\u001b[0m\u001b[1;33m:\u001b[0m\u001b[1;33m\u001b[0m\u001b[0m\n\u001b[1;32m---> 10\u001b[1;33m     \u001b[0mreader\u001b[0m \u001b[1;33m=\u001b[0m \u001b[0mcsv\u001b[0m\u001b[1;33m.\u001b[0m\u001b[0mreader\u001b[0m\u001b[1;33m(\u001b[0m\u001b[0mcsvfile\u001b[0m\u001b[1;33m)\u001b[0m\u001b[1;33m\u001b[0m\u001b[0m\n\u001b[0m\u001b[0;32m     11\u001b[0m     \u001b[0mphylum\u001b[0m \u001b[1;33m=\u001b[0m \u001b[0mnext\u001b[0m\u001b[1;33m(\u001b[0m\u001b[0mreader\u001b[0m\u001b[1;33m)\u001b[0m\u001b[1;33m\u001b[0m\u001b[0m\n\u001b[0;32m     12\u001b[0m     \u001b[1;32mfor\u001b[0m \u001b[0mrow\u001b[0m \u001b[1;32min\u001b[0m \u001b[0mreader\u001b[0m\u001b[1;33m:\u001b[0m\u001b[1;33m\u001b[0m\u001b[0m\n",
      "\u001b[1;31mNameError\u001b[0m: name 'csv' is not defined"
     ]
    }
   ],
   "source": [
    "#Create a scatter plot comparing male vs female for the bacteria classes\n",
    "\n",
    "import csv\n",
    "import numpy as np\n",
    "import matplotlib.pyplot as plt\n",
    "\n",
    "data = []\n",
    "phylum = []\n",
    "\n",
    "with open(\"ClassGender.csv\") as csvfile:\n",
    "    reader = csv.reader(csvfile) \n",
    "    phylum = next(reader)\n",
    "    for row in reader:\n",
    "        data.append(row)\n",
    "\n",
    "print(data)\n",
    " \n",
    "# # Create data\n",
    "# N = 500\n",
    "# x = np.random.rand(N)\n",
    "# y = np.random.rand(N)\n",
    "# colors = (0,0,0)\n",
    "# area = np.pi*3\n",
    " \n",
    "# # Plot\n",
    "# plt.scatter(x, y, s=area, c=colors, alpha=0.5)\n",
    "# plt.title('Scatter plot pythonspot.com')\n",
    "# plt.xlabel('x')\n",
    "# plt.ylabel('y')\n",
    "# plt.show()"
   ]
  }
 ],
 "metadata": {
  "kernelspec": {
   "display_name": "Python 3",
   "language": "python",
   "name": "python3"
  },
  "language_info": {
   "codemirror_mode": {
    "name": "ipython",
    "version": 3
   },
   "file_extension": ".py",
   "mimetype": "text/x-python",
   "name": "python",
   "nbconvert_exporter": "python",
   "pygments_lexer": "ipython3",
   "version": "3.6.3"
  }
 },
 "nbformat": 4,
 "nbformat_minor": 2
}
